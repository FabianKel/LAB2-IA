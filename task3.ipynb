{
 "cells": [
  {
   "cell_type": "code",
   "execution_count": null,
   "metadata": {},
   "outputs": [],
   "source": [
    "# Manipulación y visualización\n",
    "import pandas as pd\n",
    "import numpy as np\n",
    "import matplotlib.pyplot as plt\n",
    "import seaborn as sns\n",
    "\n",
    "# Preprocesamiento\n",
    "from sklearn.compose import ColumnTransformer\n",
    "from sklearn.preprocessing import OneHotEncoder, StandardScaler\n",
    "from sklearn.model_selection import train_test_split\n",
    "from sklearn.utils import resample\n",
    "from sklearn.preprocessing import LabelEncoder\n",
    "\n",
    "# Métrica de evaluación\n",
    "from sklearn.metrics import accuracy_score, precision_score, recall_score, f1_score\n",
    "\n",
    "# Modificar máximo de columnas\n",
    "pd.set_option('display.max_columns', None)"
   ]
  },
  {
   "cell_type": "code",
   "execution_count": 4,
   "metadata": {},
   "outputs": [],
   "source": [
    "data = pd.read_csv('high_diamond_ranked_10min.csv')"
   ]
  },
  {
   "cell_type": "code",
   "execution_count": null,
   "metadata": {},
   "outputs": [],
   "source": [
    "print(data.head)"
   ]
  },
  {
   "cell_type": "code",
   "execution_count": 29,
   "metadata": {},
   "outputs": [
    {
     "name": "stdout",
     "output_type": "stream",
     "text": [
      "             gameId     blueWins  blueWardsPlaced  blueWardsDestroyed  \\\n",
      "count  9.879000e+03  9879.000000      9879.000000         9879.000000   \n",
      "mean   4.500084e+09     0.499038        22.288288            2.824881   \n",
      "std    2.757328e+07     0.500024        18.019177            2.174998   \n",
      "min    4.295358e+09     0.000000         5.000000            0.000000   \n",
      "25%    4.483301e+09     0.000000        14.000000            1.000000   \n",
      "50%    4.510920e+09     0.000000        16.000000            3.000000   \n",
      "75%    4.521733e+09     1.000000        20.000000            4.000000   \n",
      "max    4.527991e+09     1.000000       250.000000           27.000000   \n",
      "\n",
      "       blueFirstBlood    blueKills   blueDeaths  blueAssists  \\\n",
      "count     9879.000000  9879.000000  9879.000000  9879.000000   \n",
      "mean         0.504808     6.183925     6.137666     6.645106   \n",
      "std          0.500002     3.011028     2.933818     4.064520   \n",
      "min          0.000000     0.000000     0.000000     0.000000   \n",
      "25%          0.000000     4.000000     4.000000     4.000000   \n",
      "50%          1.000000     6.000000     6.000000     6.000000   \n",
      "75%          1.000000     8.000000     8.000000     9.000000   \n",
      "max          1.000000    22.000000    22.000000    29.000000   \n",
      "\n",
      "       blueEliteMonsters  blueDragons  blueHeralds  blueTowersDestroyed  \\\n",
      "count        9879.000000  9879.000000  9879.000000          9879.000000   \n",
      "mean            0.549954     0.361980     0.187974             0.051422   \n",
      "std             0.625527     0.480597     0.390712             0.244369   \n",
      "min             0.000000     0.000000     0.000000             0.000000   \n",
      "25%             0.000000     0.000000     0.000000             0.000000   \n",
      "50%             0.000000     0.000000     0.000000             0.000000   \n",
      "75%             1.000000     1.000000     0.000000             0.000000   \n",
      "max             2.000000     1.000000     1.000000             4.000000   \n",
      "\n",
      "       blueTotalGold  blueAvgLevel  blueTotalExperience  \\\n",
      "count    9879.000000   9879.000000          9879.000000   \n",
      "mean    16503.455512      6.916004         17928.110133   \n",
      "std      1535.446636      0.305146          1200.523764   \n",
      "min     10730.000000      4.600000         10098.000000   \n",
      "25%     15415.500000      6.800000         17168.000000   \n",
      "50%     16398.000000      7.000000         17951.000000   \n",
      "75%     17459.000000      7.200000         18724.000000   \n",
      "max     23701.000000      8.000000         22224.000000   \n",
      "\n",
      "       blueTotalMinionsKilled  blueTotalJungleMinionsKilled  blueGoldDiff  \\\n",
      "count             9879.000000                   9879.000000   9879.000000   \n",
      "mean               216.699565                     50.509667     14.414111   \n",
      "std                 21.858437                      9.898282   2453.349179   \n",
      "min                 90.000000                      0.000000 -10830.000000   \n",
      "25%                202.000000                     44.000000  -1585.500000   \n",
      "50%                218.000000                     50.000000     14.000000   \n",
      "75%                232.000000                     56.000000   1596.000000   \n",
      "max                283.000000                     92.000000  11467.000000   \n",
      "\n",
      "       blueExperienceDiff  blueCSPerMin  blueGoldPerMin  redWardsPlaced  \\\n",
      "count         9879.000000   9879.000000     9879.000000     9879.000000   \n",
      "mean           -33.620306     21.669956     1650.345551       22.367952   \n",
      "std           1920.370438      2.185844      153.544664       18.457427   \n",
      "min          -9333.000000      9.000000     1073.000000        6.000000   \n",
      "25%          -1290.500000     20.200000     1541.550000       14.000000   \n",
      "50%            -28.000000     21.800000     1639.800000       16.000000   \n",
      "75%           1212.000000     23.200000     1745.900000       20.000000   \n",
      "max           8348.000000     28.300000     2370.100000      276.000000   \n",
      "\n",
      "       redWardsDestroyed  redFirstBlood     redKills    redDeaths  \\\n",
      "count        9879.000000    9879.000000  9879.000000  9879.000000   \n",
      "mean            2.723150       0.495192     6.137666     6.183925   \n",
      "std             2.138356       0.500002     2.933818     3.011028   \n",
      "min             0.000000       0.000000     0.000000     0.000000   \n",
      "25%             1.000000       0.000000     4.000000     4.000000   \n",
      "50%             2.000000       0.000000     6.000000     6.000000   \n",
      "75%             4.000000       1.000000     8.000000     8.000000   \n",
      "max            24.000000       1.000000    22.000000    22.000000   \n",
      "\n",
      "        redAssists  redEliteMonsters   redDragons   redHeralds  \\\n",
      "count  9879.000000       9879.000000  9879.000000  9879.000000   \n",
      "mean      6.662112          0.573135     0.413098     0.160036   \n",
      "std       4.060612          0.626482     0.492415     0.366658   \n",
      "min       0.000000          0.000000     0.000000     0.000000   \n",
      "25%       4.000000          0.000000     0.000000     0.000000   \n",
      "50%       6.000000          0.000000     0.000000     0.000000   \n",
      "75%       9.000000          1.000000     1.000000     0.000000   \n",
      "max      28.000000          2.000000     1.000000     1.000000   \n",
      "\n",
      "       redTowersDestroyed  redTotalGold  redAvgLevel  redTotalExperience  \\\n",
      "count         9879.000000   9879.000000  9879.000000         9879.000000   \n",
      "mean             0.043021  16489.041401     6.925316        17961.730438   \n",
      "std              0.216900   1490.888406     0.305311         1198.583912   \n",
      "min              0.000000  11212.000000     4.800000        10465.000000   \n",
      "25%              0.000000  15427.500000     6.800000        17209.500000   \n",
      "50%              0.000000  16378.000000     7.000000        17974.000000   \n",
      "75%              0.000000  17418.500000     7.200000        18764.500000   \n",
      "max              2.000000  22732.000000     8.200000        22269.000000   \n",
      "\n",
      "       redTotalMinionsKilled  redTotalJungleMinionsKilled   redGoldDiff  \\\n",
      "count            9879.000000                  9879.000000   9879.000000   \n",
      "mean              217.349226                    51.313088    -14.414111   \n",
      "std                21.911668                    10.027885   2453.349179   \n",
      "min               107.000000                     4.000000 -11467.000000   \n",
      "25%               203.000000                    44.000000  -1596.000000   \n",
      "50%               218.000000                    51.000000    -14.000000   \n",
      "75%               233.000000                    57.000000   1585.500000   \n",
      "max               289.000000                    92.000000  10830.000000   \n",
      "\n",
      "       redExperienceDiff  redCSPerMin  redGoldPerMin  \n",
      "count        9879.000000  9879.000000    9879.000000  \n",
      "mean           33.620306    21.734923    1648.904140  \n",
      "std          1920.370438     2.191167     149.088841  \n",
      "min         -8348.000000    10.700000    1121.200000  \n",
      "25%         -1212.000000    20.300000    1542.750000  \n",
      "50%            28.000000    21.800000    1637.800000  \n",
      "75%          1290.500000    23.300000    1741.850000  \n",
      "max          9333.000000    28.900000    2273.200000  \n"
     ]
    }
   ],
   "source": [
    "print(data.describe())"
   ]
  },
  {
   "cell_type": "code",
   "execution_count": null,
   "metadata": {},
   "outputs": [],
   "source": [
    "# Verificar si hay valores nulos\n",
    "print(data.isnull().sum())"
   ]
  },
  {
   "cell_type": "code",
   "execution_count": null,
   "metadata": {},
   "outputs": [],
   "source": [
    "# Verificar si hay valores duplicados\n",
    "print(data.duplicated().sum())"
   ]
  },
  {
   "cell_type": "code",
   "execution_count": 34,
   "metadata": {},
   "outputs": [
    {
     "name": "stdout",
     "output_type": "stream",
     "text": [
      "gameId                          4.495730e+09\n",
      "blueWins                        0.000000e+00\n",
      "blueWardsPlaced                 1.600000e+01\n",
      "blueWardsDestroyed              3.000000e+00\n",
      "blueFirstBlood                  0.000000e+00\n",
      "blueKills                       5.000000e+00\n",
      "blueDeaths                      8.000000e+00\n",
      "blueAssists                     3.000000e+00\n",
      "blueEliteMonsters               0.000000e+00\n",
      "blueDragons                     0.000000e+00\n",
      "blueHeralds                     0.000000e+00\n",
      "blueTowersDestroyed             0.000000e+00\n",
      "blueTotalGold                   1.596700e+04\n",
      "blueAvgLevel                    6.400000e+00\n",
      "blueTotalExperience             1.696400e+04\n",
      "blueTotalMinionsKilled          2.230000e+02\n",
      "blueTotalJungleMinionsKilled    4.400000e+01\n",
      "blueGoldDiff                   -1.578000e+03\n",
      "blueExperienceDiff             -5.980000e+02\n",
      "blueCSPerMin                    2.230000e+01\n",
      "blueGoldPerMin                  1.596700e+03\n",
      "redWardsPlaced                  2.760000e+02\n",
      "redWardsDestroyed               1.000000e+00\n",
      "redFirstBlood                   1.000000e+00\n",
      "redKills                        8.000000e+00\n",
      "redDeaths                       5.000000e+00\n",
      "redAssists                      1.000000e+01\n",
      "redEliteMonsters                2.000000e+00\n",
      "redDragons                      1.000000e+00\n",
      "redHeralds                      1.000000e+00\n",
      "redTowersDestroyed              0.000000e+00\n",
      "redTotalGold                    1.754500e+04\n",
      "redAvgLevel                     7.000000e+00\n",
      "redTotalExperience              1.756200e+04\n",
      "redTotalMinionsKilled           2.060000e+02\n",
      "redTotalJungleMinionsKilled     4.000000e+01\n",
      "redGoldDiff                     1.578000e+03\n",
      "redExperienceDiff               5.980000e+02\n",
      "redCSPerMin                     2.060000e+01\n",
      "redGoldPerMin                   1.754500e+03\n",
      "Name: 2713, dtype: float64\n"
     ]
    }
   ],
   "source": [
    "# Buscar partida donde se usaron  más red wards\n",
    "print(data.loc[data['redWardsPlaced'].idxmax()])"
   ]
  },
  {
   "cell_type": "markdown",
   "metadata": {},
   "source": [
    "### Observaciones\n",
    "* Se encontraron 2 columnas categóricas: ```blueWins``` y ```blueFirstBlood```, donde la variable objetivo será ```blueWins```.\n",
    "Como ambas columnas ya están codificadas, no hace falta hacer ningún cambio.\n",
    "* La columna de ```gameId``` no es necesaria para el análisis de datos.\n",
    "* Las columnas de oro por minuto como ```blueGoldPerMin``` y ```redGoldPerMin``` son innecesarias ya que únicamente son los valores de ```blueTotalGold``` y ```redTotalGold``` pero dividido en **10**\n",
    "* Aunque las columnas que describen la diferencia de ```oro``` y ```experiencia``` entre ambos equipos son una diferencia de las columnas del total de ambos equipos, consideramos que sigue siendo información importante por lo que si son columnas necesarias.\n",
    "* Las columnas que nos benefician más escalar debido a la diferencia de escala con el resto de datos son las siguientes\n",
    "    * ```blueTotalGold``` y ```redTotalGold```\n",
    "    * ```blueTotalExperience``` y ```redTotalExperience```\n",
    "    * ```blueExperienceDiff``` y ```redExperienceDiff```"
   ]
  },
  {
   "cell_type": "markdown",
   "metadata": {},
   "source": [
    "#### Excluir columnas innecesarias"
   ]
  },
  {
   "cell_type": "code",
   "execution_count": null,
   "metadata": {},
   "outputs": [],
   "source": [
    "df = data.drop([\"gameId\",\"blueGoldPerMin\",\"redGoldPerMin\"], axis=1)\n",
    "print(df.columns.values)"
   ]
  },
  {
   "cell_type": "markdown",
   "metadata": {},
   "source": [
    "### Separar la variable objetivo"
   ]
  },
  {
   "cell_type": "code",
   "execution_count": 73,
   "metadata": {},
   "outputs": [
    {
     "name": "stdout",
     "output_type": "stream",
     "text": [
      "[[  28.     2.     1.  ... -643.     8.    19.7]\n",
      " [  12.     1.     0.  ... 2908.  1173.    24. ]\n",
      " [  15.     0.     0.  ... 1172.  1033.    20.3]\n",
      " ...\n",
      " [  23.     1.     0.  ... 2416.  1877.    26.1]\n",
      " [  14.     4.     1.  ...  839.  1085.    24.7]\n",
      " [  18.     0.     1.  ... -927.    58.    20.1]]\n",
      "[0 0 0 ... 0 0 1]\n"
     ]
    }
   ],
   "source": [
    "np.set_printoptions(suppress=True)\n",
    "\n",
    "X = df.iloc[:, 1:].values\n",
    "Y = df.iloc[:, 0].values\n",
    "\n",
    "print(X)\n",
    "print(Y)"
   ]
  }
 ],
 "metadata": {
  "kernelspec": {
   "display_name": "Python 3",
   "language": "python",
   "name": "python3"
  },
  "language_info": {
   "codemirror_mode": {
    "name": "ipython",
    "version": 3
   },
   "file_extension": ".py",
   "mimetype": "text/x-python",
   "name": "python",
   "nbconvert_exporter": "python",
   "pygments_lexer": "ipython3",
   "version": "3.10.11"
  }
 },
 "nbformat": 4,
 "nbformat_minor": 2
}
